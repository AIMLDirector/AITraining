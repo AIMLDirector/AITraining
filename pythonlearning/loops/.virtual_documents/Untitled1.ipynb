pip list


print( " hello world")



